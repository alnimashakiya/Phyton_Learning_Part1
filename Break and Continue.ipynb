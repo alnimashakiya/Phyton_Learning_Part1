{
 "cells": [
  {
   "cell_type": "markdown",
   "id": "2c735492-a4d4-4179-86e6-4e5d6deeb13a",
   "metadata": {},
   "source": [
    "## BREAK\n",
    "\n",
    "In Python, the break statement is used to halt the execution of a loop (such as for or while) before it is finished. When break is executed, the program exits the loop and continues execution from the line of code after the loop."
   ]
  },
  {
   "cell_type": "markdown",
   "id": "a77dfe05-1f0a-4297-854a-2ef7b9f38c70",
   "metadata": {},
   "source": [
    "### Example"
   ]
  },
  {
   "cell_type": "code",
   "execution_count": 1,
   "id": "60c16d7d-1037-4dbc-8fde-b2a190d39540",
   "metadata": {},
   "outputs": [
    {
     "name": "stdout",
     "output_type": "stream",
     "text": [
      "0\n",
      "1\n",
      "2\n"
     ]
    }
   ],
   "source": [
    "for a in range(5):\n",
    "    if a == 3:\n",
    "        break\n",
    "    print(a)"
   ]
  },
  {
   "cell_type": "markdown",
   "id": "c7472218-4dc8-4564-bd0f-aba28eb096d9",
   "metadata": {},
   "source": [
    "_After the value of a reaches 3, the iteration stops because the break statement has been executed._"
   ]
  },
  {
   "cell_type": "markdown",
   "id": "478cdc6e-4e74-4abe-ad1b-7c0ac3d7afa9",
   "metadata": {},
   "source": [
    "## CONTINUE\n",
    "\n",
    "In Python, the continue statement is used to skip the rest of the current iteration of a loop (such as for or while) and continue to the next iteration. When continue is executed, the remaining code within the loop for the current iteration is skipped, and the loop proceeds with the next iteration."
   ]
  },
  {
   "cell_type": "markdown",
   "id": "f9df3a42-8c9e-4c44-92f4-10bd0669bacf",
   "metadata": {},
   "source": [
    "### Example"
   ]
  },
  {
   "cell_type": "code",
   "execution_count": 3,
   "id": "453c0071-18eb-4f50-bf0a-28998f7188bb",
   "metadata": {},
   "outputs": [
    {
     "name": "stdout",
     "output_type": "stream",
     "text": [
      "0\n",
      "1\n",
      "3\n",
      "4\n"
     ]
    }
   ],
   "source": [
    "for a in range(5):\n",
    "    if a == 2:\n",
    "        continue\n",
    "    print(a)"
   ]
  },
  {
   "cell_type": "markdown",
   "id": "8afa7aec-748f-4d13-9392-9d315b9f19ba",
   "metadata": {},
   "source": [
    "_As you can see, the value 2 is skipped in the output because the continue statement caused the loop to skip printing it._"
   ]
  },
  {
   "cell_type": "code",
   "execution_count": null,
   "id": "222d17e8-9701-4ec0-81cf-b7cc7ddb92f7",
   "metadata": {},
   "outputs": [],
   "source": []
  }
 ],
 "metadata": {
  "kernelspec": {
   "display_name": "Python 3 (ipykernel)",
   "language": "python",
   "name": "python3"
  },
  "language_info": {
   "codemirror_mode": {
    "name": "ipython",
    "version": 3
   },
   "file_extension": ".py",
   "mimetype": "text/x-python",
   "name": "python",
   "nbconvert_exporter": "python",
   "pygments_lexer": "ipython3",
   "version": "3.11.7"
  }
 },
 "nbformat": 4,
 "nbformat_minor": 5
}
