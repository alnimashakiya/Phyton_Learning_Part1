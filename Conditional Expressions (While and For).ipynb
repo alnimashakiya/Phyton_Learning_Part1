{
 "cells": [
  {
   "cell_type": "markdown",
   "id": "90f4d949-1e10-4ef8-8c55-f5fc82329e43",
   "metadata": {},
   "source": [
    "# WHILE\n",
    "\r\n",
    "The while loop is a fundamental looping construct in Python that executes a block of code as long as a specified condition evaluates to True. It repeatedly checks the condition before executing the block of code, and the loop terminates when the condition becomes False. This loop is particularly useful when the number of iterations is not known beforehand, as it allows the program to continue executing until a desired condition is met. Overall, the while loop provides a flexible and powerful way to control the flow of execution in Python programs\n",
    "\n",
    "## Example\n",
    "."
   ]
  },
  {
   "cell_type": "code",
   "execution_count": 1,
   "id": "bc49f31a-34d4-40bd-933b-44c10fba6ced",
   "metadata": {},
   "outputs": [
    {
     "name": "stdout",
     "output_type": "stream",
     "text": [
      "While loop iteration: 0\n",
      "While loop iteration: 1\n",
      "While loop iteration: 2\n",
      "While loop iteration: 3\n",
      "While loop iteration: 4\n"
     ]
    }
   ],
   "source": [
    "count = 0\n",
    "while count < 5:\n",
    "    print(\"While loop iteration:\", count)\n",
    "    count += 1"
   ]
  },
  {
   "cell_type": "code",
   "execution_count": 4,
   "id": "dce54093-776f-48b9-aac5-000c24b6e6e2",
   "metadata": {},
   "outputs": [
    {
     "name": "stdout",
     "output_type": "stream",
     "text": [
      "Count: 1\n",
      "Count: 2\n"
     ]
    }
   ],
   "source": [
    "count = 0\n",
    "while count < 5:\n",
    "    count += 1\n",
    "    if count == 3:\n",
    "        break\n",
    "    print(\"Count:\", count)"
   ]
  },
  {
   "cell_type": "markdown",
   "id": "e603cecd-2e82-49d4-89ea-64a69476beb1",
   "metadata": {},
   "source": [
    "# FOR\r\n",
    "The for loop is a versatile looping construct in Python that iterates over a sequence, such as a list, tuple, string, or range, and executes the block of code for each item in the sequence. It is commonly utilized when you know the number of iterations in advance or when you intend to iterate over the elements of a sequence. By iterating over each item in the sequence, the for loop allows you to perform operations or execute code logic for each element efficiently. This makes it a fundamental tool for iterating through collections of data and performing repetitive tasks in Python programs. Overall, the for loop provides a concise and readable way to iterate over sequences and process each element individually\n",
    "\n",
    "## Example."
   ]
  },
  {
   "cell_type": "code",
   "execution_count": 2,
   "id": "bf12df68-3ae1-419a-8e06-3f37a23bcc75",
   "metadata": {},
   "outputs": [
    {
     "name": "stdout",
     "output_type": "stream",
     "text": [
      "For loop iteration: 0\n",
      "For loop iteration: 1\n",
      "For loop iteration: 2\n",
      "For loop iteration: 3\n",
      "For loop iteration: 4\n"
     ]
    }
   ],
   "source": [
    "for i in range(5):\n",
    "    print(\"For loop iteration:\", i)"
   ]
  },
  {
   "cell_type": "code",
   "execution_count": 3,
   "id": "38c5b82a-ddfc-4486-a301-cc423c95c9e6",
   "metadata": {},
   "outputs": [
    {
     "name": "stdout",
     "output_type": "stream",
     "text": [
      "I like apple\n",
      "I like banana\n",
      "I like orange\n"
     ]
    }
   ],
   "source": [
    "fruits = [\"apple\", \"banana\", \"cherry\", \"orange\"]\n",
    "for fruit in fruits:\n",
    "    if fruit == \"cherry\":\n",
    "        continue\n",
    "    print(\"I like\", fruit)"
   ]
  },
  {
   "cell_type": "code",
   "execution_count": null,
   "id": "36296806-0bef-41f0-a681-4ee63fb523bf",
   "metadata": {},
   "outputs": [],
   "source": []
  }
 ],
 "metadata": {
  "kernelspec": {
   "display_name": "Python 3 (ipykernel)",
   "language": "python",
   "name": "python3"
  },
  "language_info": {
   "codemirror_mode": {
    "name": "ipython",
    "version": 3
   },
   "file_extension": ".py",
   "mimetype": "text/x-python",
   "name": "python",
   "nbconvert_exporter": "python",
   "pygments_lexer": "ipython3",
   "version": "3.11.7"
  }
 },
 "nbformat": 4,
 "nbformat_minor": 5
}
