{
 "cells": [
  {
   "cell_type": "markdown",
   "id": "652e9ca8-d89d-4d1b-9a34-13bba5c9d319",
   "metadata": {},
   "source": [
    "# Else after While\n",
    "The else statement following a while loop in Python executes a block of code if the loop exits normally, that is, if the loop condition becomes False. This else block will not execute if the loop is terminated by a break statement. Here's a brief explanation:\r\n",
    "\r\n",
    "- The else block is optional and follows the body of the while loop.\r\n",
    "- It executes when the loop condition becomes False, indicating that the loop has finished iterating through all the items.\r\n",
    "- If the loop is terminated prematurely using a break statement, the else block will not execute.\r\n",
    "- The else block is commonly used to perform cleanup tasks or finalize operations after the loop has completed normally."
   ]
  },
  {
   "cell_type": "markdown",
   "id": "7c3fc08c-47e4-45ec-963f-20193f376316",
   "metadata": {},
   "source": [
    "## Example"
   ]
  },
  {
   "cell_type": "code",
   "execution_count": 1,
   "id": "52906d04-1320-498a-b85e-83e2f6d422d3",
   "metadata": {},
   "outputs": [
    {
     "name": "stdout",
     "output_type": "stream",
     "text": [
      "Inside while loop\n",
      "Inside while loop\n",
      "Inside while loop\n",
      "Inside else block after while loop\n"
     ]
    }
   ],
   "source": [
    "count = 0\n",
    "while count < 3:\n",
    "    print(\"Inside while loop\")\n",
    "    count += 1\n",
    "else:\n",
    "    print(\"Inside else block after while loop\")"
   ]
  },
  {
   "cell_type": "markdown",
   "id": "a8ae4258-93a7-4d48-972d-da9041ab17c6",
   "metadata": {},
   "source": [
    "_In this example, the while loop executes three times, printing \"Inside while loop\" each time. After the loop completes normally (when count becomes 3), the else block executes, printing \"Inside else block after while loop\"._"
   ]
  },
  {
   "cell_type": "code",
   "execution_count": 2,
   "id": "25cae6a3-d860-4aa5-a5f9-28e40a016718",
   "metadata": {},
   "outputs": [
    {
     "name": "stdout",
     "output_type": "stream",
     "text": [
      "Current value: 10\n",
      "Current value: 9\n",
      "Current value: 8\n",
      "Current value: 7\n",
      "Current value: 6\n",
      "Current value: 5\n",
      "Current value: 4\n",
      "Current value: 3\n",
      "Current value: 2\n",
      "Current value: 1\n",
      "Loop finished normally.\n"
     ]
    }
   ],
   "source": [
    "num = 10\n",
    "while num > 0:\n",
    "    print(\"Current value:\", num)\n",
    "    num -= 1\n",
    "else:\n",
    "    print(\"Loop finished normally.\")"
   ]
  },
  {
   "cell_type": "markdown",
   "id": "6278e33d-3cec-4d0a-8fa4-6e834c95111e",
   "metadata": {},
   "source": [
    "_In this example, the while loop decrements the num variable until it becomes 0. After the loop completes normally, the else block executes and prints \"Loop finished normally.\" because the loop condition became False. If the loop had been terminated prematurely using a break statement, the else block would not have executed._"
   ]
  },
  {
   "cell_type": "code",
   "execution_count": null,
   "id": "d9e53854-53f4-45d8-9d43-5403a7fa43ce",
   "metadata": {},
   "outputs": [],
   "source": []
  }
 ],
 "metadata": {
  "kernelspec": {
   "display_name": "Python 3 (ipykernel)",
   "language": "python",
   "name": "python3"
  },
  "language_info": {
   "codemirror_mode": {
    "name": "ipython",
    "version": 3
   },
   "file_extension": ".py",
   "mimetype": "text/x-python",
   "name": "python",
   "nbconvert_exporter": "python",
   "pygments_lexer": "ipython3",
   "version": "3.11.7"
  }
 },
 "nbformat": 4,
 "nbformat_minor": 5
}
