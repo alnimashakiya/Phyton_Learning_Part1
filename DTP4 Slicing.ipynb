{
 "cells": [
  {
   "cell_type": "markdown",
   "id": "42b55b61-1a22-4b7c-8a70-269572df0903",
   "metadata": {},
   "source": [
    "## Slicing\n",
    "Slicing in Python refers to the process of extracting a portion of elements from a sequence, such as a list, tuple, or string, based on specified indices. It allows you to create a subset of the original sequence by specifying a range of indices."
   ]
  },
  {
   "cell_type": "markdown",
   "id": "a507b7c0-d12d-4a94-b658-b07e75476ff1",
   "metadata": {},
   "source": [
    "The syntax for slicing is as follows:\r\n",
    "*sequence[start_index:end_index:step])\n",
    "\n",
    "- start_index : The index from which the slicing starts (inclusive).\r\n",
    "- end_index : The index at which the slicing ends (exclusive).\r\n",
    "- step (optional) : The step or interval between elements. It specifies how many elements to skip. The default value is 1.\r\n",
    "\r\n",
    "If start_index is omitted, slicing starts from the beginning of the sequence. If end_index is omitted, slicing continues until the end of the sequence. If step is omitted, the default value of 1 is used.sed.*"
   ]
  },
  {
   "cell_type": "markdown",
   "id": "f13ca55b-1003-469c-a3c0-c0b95fc40857",
   "metadata": {},
   "source": [
    "### Example"
   ]
  },
  {
   "cell_type": "code",
   "execution_count": 1,
   "id": "22ec12be-fd66-4a83-bdd1-7838b6f57f5c",
   "metadata": {},
   "outputs": [
    {
     "name": "stdout",
     "output_type": "stream",
     "text": [
      "[2, 3, 4]\n"
     ]
    }
   ],
   "source": [
    "#slicing a list\n",
    "\n",
    "my_list = [1, 2, 3, 4, 5]\n",
    "sliced_list = my_list[1:4]  # Extract elements from index 1 to index 3 (exclusive)\n",
    "print(sliced_list)"
   ]
  },
  {
   "cell_type": "code",
   "execution_count": 2,
   "id": "07a6a53d-b1b0-4bc5-b51b-4ddec5befa8b",
   "metadata": {},
   "outputs": [
    {
     "name": "stdout",
     "output_type": "stream",
     "text": [
      "World!\n"
     ]
    }
   ],
   "source": [
    "#slicing a string\n",
    "\n",
    "my_string = \"Hello, World!\"\n",
    "sliced_string = my_string[7:]  # Extract elements from index 7 to the end\n",
    "print(sliced_string)"
   ]
  },
  {
   "cell_type": "code",
   "execution_count": 3,
   "id": "11d5bdad-3598-489c-b5df-478ee80a09f4",
   "metadata": {},
   "outputs": [
    {
     "name": "stdout",
     "output_type": "stream",
     "text": [
      "[1, 2, 3]\n"
     ]
    }
   ],
   "source": [
    "#using negative indices for slicing\n",
    "my_list = [1, 2, 3, 4, 5]\n",
    "sliced_list = my_list[:-2]  # Extract elements from the beginning to the second-to-last element\n",
    "print(sliced_list)"
   ]
  },
  {
   "cell_type": "code",
   "execution_count": null,
   "id": "e0e66bc9-efce-42c2-b0b7-83ca4f90791c",
   "metadata": {},
   "outputs": [],
   "source": []
  }
 ],
 "metadata": {
  "kernelspec": {
   "display_name": "Python 3 (ipykernel)",
   "language": "python",
   "name": "python3"
  },
  "language_info": {
   "codemirror_mode": {
    "name": "ipython",
    "version": 3
   },
   "file_extension": ".py",
   "mimetype": "text/x-python",
   "name": "python",
   "nbconvert_exporter": "python",
   "pygments_lexer": "ipython3",
   "version": "3.11.7"
  }
 },
 "nbformat": 4,
 "nbformat_minor": 5
}
