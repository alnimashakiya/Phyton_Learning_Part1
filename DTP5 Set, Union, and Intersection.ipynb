{
 "cells": [
  {
   "cell_type": "markdown",
   "id": "65a42c96-489a-468a-b061-c7c9d68356ed",
   "metadata": {},
   "source": [
    "## Set\n",
    "In Python, a set is a collection of unique and unordered elements. Sets are defined using curly braces {} and contain comma-separated elements. Sets do not allow duplicate elements, meaning each element appears only once in the set.\n",
    "\n",
    "### Example"
   ]
  },
  {
   "cell_type": "code",
   "execution_count": 1,
   "id": "be6221df-537a-435a-be37-7dd93c5a65a7",
   "metadata": {},
   "outputs": [
    {
     "name": "stdout",
     "output_type": "stream",
     "text": [
      "{1, 2, 3, 4, 5, 6}\n",
      "{1, 2, 4, 5, 6}\n",
      "{1, 2, 3, 4, 5}\n",
      "{3}\n"
     ]
    }
   ],
   "source": [
    "# Creating a set\n",
    "my_set = {1, 2, 3, 4, 5}\n",
    "\n",
    "# Adding elements to the set\n",
    "my_set.add(6)\n",
    "my_set.add(2)  # Adding duplicate element, will not be added\n",
    "print(my_set)\n",
    "\n",
    "# Removing elements from the set\n",
    "my_set.remove(3)\n",
    "print(my_set)\n",
    "\n",
    "# Mathematical operations\n",
    "set1 = {1, 2, 3}\n",
    "set2 = {3, 4, 5}\n",
    "union_set = set1.union(set2)\n",
    "intersection_set = set1.intersection(set2)\n",
    "print(union_set)\n",
    "print(intersection_set)"
   ]
  },
  {
   "cell_type": "markdown",
   "id": "f22555ba-acd1-4fe0-ac67-f8d540231e91",
   "metadata": {},
   "source": [
    "_In this example, my_set is a set containing the elements {1, 2, 3, 4, 5, 6}. Mathematical operations like union and intersection are also demonstrated using sets._"
   ]
  },
  {
   "cell_type": "markdown",
   "id": "d252bebf-34aa-443f-a0de-d06b67f9ca4f",
   "metadata": {},
   "source": [
    "## Union\n",
    "\r\n",
    "In Python, the union of sets is a mathematical operation that combines the elements of two or more sets into a new set containing all the unique elements from the input sets. The resulting set will contain only one occurrence of each unique element.\r\n",
    "\r\n",
    "You can perform the union operation in Python using the union() method or the | operator.\r\n",
    "\r\n",
    "Here's how you can use the union() method:"
   ]
  },
  {
   "cell_type": "code",
   "execution_count": 2,
   "id": "c4c81ad4-72d1-40fc-8377-b93cd70434e1",
   "metadata": {},
   "outputs": [
    {
     "name": "stdout",
     "output_type": "stream",
     "text": [
      "{1, 2, 3, 4, 5}\n"
     ]
    }
   ],
   "source": [
    "# Define two sets\n",
    "set1 = {1, 2, 3}\n",
    "set2 = {3, 4, 5}\n",
    "\n",
    "# Perform union using the union() method\n",
    "union_set = set1.union(set2)\n",
    "\n",
    "# Print the resulting set\n",
    "print(union_set)\n"
   ]
  },
  {
   "cell_type": "markdown",
   "id": "e702dace-ce96-4e82-bdc7-b52b607f6402",
   "metadata": {},
   "source": [
    "Alternatively, you can use the | operator for the union operation:"
   ]
  },
  {
   "cell_type": "code",
   "execution_count": 3,
   "id": "88952107-08ed-4bc2-920b-94204c848b14",
   "metadata": {},
   "outputs": [
    {
     "name": "stdout",
     "output_type": "stream",
     "text": [
      "{1, 2, 3, 4, 5}\n"
     ]
    }
   ],
   "source": [
    "# Perform union using the | operator\n",
    "union_set = set1 | set2\n",
    "\n",
    "# Print the resulting set\n",
    "print(union_set)"
   ]
  },
  {
   "cell_type": "markdown",
   "id": "5d2a5a7e-3bfc-4f65-974d-c45f6e09c356",
   "metadata": {},
   "source": [
    "### Example"
   ]
  },
  {
   "cell_type": "code",
   "execution_count": 4,
   "id": "f4a8da1d-fc9f-48b5-831d-e0fc6b5cbd22",
   "metadata": {},
   "outputs": [
    {
     "name": "stdout",
     "output_type": "stream",
     "text": [
      "{'pineapple', 'apple', 'grape', 'banana', 'orange'}\n"
     ]
    }
   ],
   "source": [
    "# Define two sets\n",
    "set1 = {'apple', 'banana', 'orange'}\n",
    "set2 = {'orange', 'grape', 'pineapple'}\n",
    "\n",
    "# Perform union using the union() method\n",
    "union_set = set1.union(set2)\n",
    "\n",
    "# Print the resulting set after the union operation\n",
    "print(union_set)"
   ]
  },
  {
   "cell_type": "markdown",
   "id": "59da0b6f-dbf9-4d0a-adf2-580c6e8bcaea",
   "metadata": {},
   "source": [
    "_In this example, union_set contains all the unique elements from both set1 and set2. The union operation combines all the elements from both sets into a new set without duplicates. Therefore, after the union operation, we get {'banana', 'grape', 'orange', 'apple', 'pineapple'}._"
   ]
  },
  {
   "cell_type": "markdown",
   "id": "1b308802-65bb-405d-98ed-e2b3a83cc2d3",
   "metadata": {},
   "source": [
    "## Intersection\n",
    "In Python, the intersection of sets is a mathematical operation that produces a new set containing only the elements that are common to two or more input sets. In other words, it returns the set of elements that are present in all of the input sets.\r\n",
    "\r\n",
    "You can perform the intersection operation in Python using the intersection() method or the & operatorhod:"
   ]
  },
  {
   "cell_type": "markdown",
   "id": "62297c9e-5832-4eea-9c06-0947f2c66fac",
   "metadata": {},
   "source": [
    "### Example"
   ]
  },
  {
   "cell_type": "code",
   "execution_count": 7,
   "id": "b8c7b588-7731-4bba-89d5-d4da6da285fd",
   "metadata": {},
   "outputs": [
    {
     "name": "stdout",
     "output_type": "stream",
     "text": [
      "{3}\n"
     ]
    }
   ],
   "source": [
    "# Define two sets\n",
    "set1 = {1, 2, 3}\n",
    "set2 = {3, 4, 5}\n",
    "\n",
    "# Perform intersection using the intersection() method\n",
    "intersection_set = set1.intersection(set2)\n",
    "\n",
    "# Print the resulting set\n",
    "print(intersection_set)"
   ]
  },
  {
   "cell_type": "markdown",
   "id": "c1988dec-fd5e-496c-88df-3c573598c884",
   "metadata": {},
   "source": [
    "Alternatively, you can use the & operator for the intersection operation:"
   ]
  },
  {
   "cell_type": "code",
   "execution_count": 8,
   "id": "aa3da3a5-9382-441f-8a3a-56bf28758e4a",
   "metadata": {},
   "outputs": [
    {
     "name": "stdout",
     "output_type": "stream",
     "text": [
      "{3}\n"
     ]
    }
   ],
   "source": [
    "# Perform intersection using the & operator\n",
    "intersection_set = set1 & set2\n",
    "\n",
    "# Print the resulting set\n",
    "print(intersection_set)\n"
   ]
  },
  {
   "cell_type": "markdown",
   "id": "21d6dd51-05da-4a6a-8060-b7ae57514191",
   "metadata": {},
   "source": [
    "In both examples, intersection_set contains only the element 3, which is common to both set1 and set2."
   ]
  },
  {
   "cell_type": "code",
   "execution_count": null,
   "id": "b9414fe3-144d-43b8-89f5-78a93756a56e",
   "metadata": {},
   "outputs": [],
   "source": []
  }
 ],
 "metadata": {
  "kernelspec": {
   "display_name": "Python 3 (ipykernel)",
   "language": "python",
   "name": "python3"
  },
  "language_info": {
   "codemirror_mode": {
    "name": "ipython",
    "version": 3
   },
   "file_extension": ".py",
   "mimetype": "text/x-python",
   "name": "python",
   "nbconvert_exporter": "python",
   "pygments_lexer": "ipython3",
   "version": "3.11.7"
  }
 },
 "nbformat": 4,
 "nbformat_minor": 5
}
