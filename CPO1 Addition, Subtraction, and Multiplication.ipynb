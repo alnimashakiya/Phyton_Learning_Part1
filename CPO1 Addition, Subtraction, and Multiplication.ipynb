{
 "cells": [
  {
   "cell_type": "markdown",
   "id": "302ee293-af9b-4701-b319-72db43a6b3b7",
   "metadata": {},
   "source": [
    "# CREATING PHYTON OPERATORS (CPO)\n",
    "\r\n",
    "Creating Python operators refers to defining custom operators in Python. While Python comes with a set of built-in operators such as arithmetic, comparison, logical, and bitwise operators, sometimes you may need to define your own custom operators for specific use cases.\r\n",
    "\r\n",
    "Python allows you to define custom operators using special methods called magic methods or dunder methods. These methods have double underscores (__) before and after their names. For example, to define a custom addition operator for a class, you can implement the __add__() method."
   ]
  },
  {
   "cell_type": "markdown",
   "id": "64ff568a-d4a5-4598-b437-d0ed7b3b9496",
   "metadata": {},
   "source": [
    "## Addition\n",
    "In Python, addition is a basic arithmetic operation used to add two or more numbers together. You can perform addition using the + operator. Additionally, you can also use the + operator to concatenate strings or merge lists.\n",
    "\n",
    "### Example"
   ]
  },
  {
   "cell_type": "code",
   "execution_count": 11,
   "id": "601cdbe3-0fc8-4f76-b9ab-ac64eaf6569f",
   "metadata": {},
   "outputs": [
    {
     "name": "stdout",
     "output_type": "stream",
     "text": [
      "8\n",
      "6.0\n"
     ]
    }
   ],
   "source": [
    "# Addition of two integers\n",
    "result = 5 + 3\n",
    "print(result)\n",
    "\n",
    "# Addition of two floats\n",
    "result = 3.5 + 2.5\n",
    "print(result)\n"
   ]
  },
  {
   "cell_type": "code",
   "execution_count": 12,
   "id": "1c1f736d-e723-4587-84f2-6147a1dd9ff7",
   "metadata": {},
   "outputs": [
    {
     "name": "stdout",
     "output_type": "stream",
     "text": [
      "Hello, World!\n"
     ]
    }
   ],
   "source": [
    "# Concatenation of two strings\n",
    "result = \"Hello, \" + \"World!\"\n",
    "print(result)\n"
   ]
  },
  {
   "cell_type": "code",
   "execution_count": 13,
   "id": "020aa4ad-4c54-4bbf-9192-9086c46ae7b7",
   "metadata": {},
   "outputs": [
    {
     "name": "stdout",
     "output_type": "stream",
     "text": [
      "[1, 2, 3, 4, 5, 6]\n"
     ]
    }
   ],
   "source": [
    "# Concatenation of two lists\n",
    "list1 = [1, 2, 3]\n",
    "list2 = [4, 5, 6]\n",
    "result = list1 + list2\n",
    "print(result)"
   ]
  },
  {
   "cell_type": "markdown",
   "id": "bafa3ef9-05ca-44bd-b873-f076f3af9316",
   "metadata": {},
   "source": [
    "_In each example, the + operator is used to perform addition or concatenation depending on the data types involved._"
   ]
  },
  {
   "cell_type": "markdown",
   "id": "5af7ab42-bd24-4b4c-a26b-3dc59fe04f0d",
   "metadata": {},
   "source": [
    "## Subtraction\n",
    "In Python, subtraction is a basic arithmetic operation used to find the difference between two numbers. You can perform subtraction using the - operator.\n",
    "\n",
    "### Example"
   ]
  },
  {
   "cell_type": "code",
   "execution_count": 14,
   "id": "918a9d26-6e3b-440d-b434-9b9c332ca8ba",
   "metadata": {},
   "outputs": [
    {
     "name": "stdout",
     "output_type": "stream",
     "text": [
      "5\n",
      "1.0\n"
     ]
    }
   ],
   "source": [
    "# Subtraction of two integers\n",
    "result = 10 - 5\n",
    "print(result)\n",
    "\n",
    "# Subtraction of two floats\n",
    "result = 3.5 - 2.5\n",
    "print(result)\n"
   ]
  },
  {
   "cell_type": "code",
   "execution_count": 15,
   "id": "6ec6a9dc-2d0a-4168-8294-ebd8262e8584",
   "metadata": {},
   "outputs": [
    {
     "name": "stdout",
     "output_type": "stream",
     "text": [
      "5\n"
     ]
    }
   ],
   "source": [
    "# Subtraction with variables\n",
    "a = 10\n",
    "b = 5\n",
    "result = a - b\n",
    "print(result)"
   ]
  },
  {
   "cell_type": "markdown",
   "id": "7ac500f2-777a-4c17-9dc9-689175e8d328",
   "metadata": {},
   "source": [
    "_In each example, the - operator is used to perform subtraction between two numbers, whether they are integers or floating-point numbers. Additionally, you can also perform subtraction with variables containing numerical values._"
   ]
  },
  {
   "cell_type": "markdown",
   "id": "ee2fd4ce-ebf1-4ede-97e5-5f299563521d",
   "metadata": {},
   "source": [
    "## Multiplication\r\n",
    "In Python, multiplication is a basic arithmetic operation used to find the product of two or more numbers. You can perform multiplication using the * operator\n",
    "\n",
    "### Example."
   ]
  },
  {
   "cell_type": "code",
   "execution_count": 16,
   "id": "e230915b-6a74-44f9-b99f-da2e09a15d3f",
   "metadata": {},
   "outputs": [
    {
     "name": "stdout",
     "output_type": "stream",
     "text": [
      "15\n",
      "8.75\n"
     ]
    }
   ],
   "source": [
    "# Multiplication of two integers\n",
    "result = 5 * 3\n",
    "print(result)\n",
    "\n",
    "# Multiplication of two floats\n",
    "result = 3.5 * 2.5\n",
    "print(result)\n"
   ]
  },
  {
   "cell_type": "code",
   "execution_count": 17,
   "id": "2f4986b5-47c5-49ab-bc54-a2bd66535eb0",
   "metadata": {},
   "outputs": [
    {
     "name": "stdout",
     "output_type": "stream",
     "text": [
      "20\n"
     ]
    }
   ],
   "source": [
    "# Multiplication with variables\n",
    "a = 5\n",
    "b = 4\n",
    "result = a * b\n",
    "print(result)"
   ]
  },
  {
   "cell_type": "code",
   "execution_count": 18,
   "id": "860de349-21ec-4e82-bb0c-cb569a6acf76",
   "metadata": {},
   "outputs": [
    {
     "name": "stdout",
     "output_type": "stream",
     "text": [
      "-12\n"
     ]
    }
   ],
   "source": [
    "# Multiplication with negative numbers\n",
    "result = -3 * 4\n",
    "print(result)"
   ]
  },
  {
   "cell_type": "markdown",
   "id": "63bea9af-48f9-485f-bf97-692e9c63e564",
   "metadata": {},
   "source": [
    "_In each example, the * operator is used to perform multiplication between two numbers, whether they are integers or floating-point numbers. Additionally, you can also perform multiplication with variables containing numerical values._"
   ]
  },
  {
   "cell_type": "code",
   "execution_count": null,
   "id": "fb9c017c-f73f-420d-abe0-3eb6c1f3a341",
   "metadata": {},
   "outputs": [],
   "source": []
  }
 ],
 "metadata": {
  "kernelspec": {
   "display_name": "Python 3 (ipykernel)",
   "language": "python",
   "name": "python3"
  },
  "language_info": {
   "codemirror_mode": {
    "name": "ipython",
    "version": 3
   },
   "file_extension": ".py",
   "mimetype": "text/x-python",
   "name": "python",
   "nbconvert_exporter": "python",
   "pygments_lexer": "ipython3",
   "version": "3.11.7"
  }
 },
 "nbformat": 4,
 "nbformat_minor": 5
}
