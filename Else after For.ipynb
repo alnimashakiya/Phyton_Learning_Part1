{
 "cells": [
  {
   "cell_type": "markdown",
   "id": "785c475f-7193-45de-bad2-ccb0ecd02d3c",
   "metadata": {},
   "source": [
    "## ELSE CLAUSE\n",
    "\n",
    "In Python, the \"else clause\" refers to the part of control structures such as if or loop constructs like for, while, or try used to execute a block of code if the condition associated with the control structure is not met or if the loop completes its execution without any interruption.\r\n",
    "\r\n",
    "In the context of loops such as for, while, or try, the \"else clause\" will be executed if the loop completes its execution without encountering a break statement. In other words, the \"else clause\" in a loop is used to execute code when the condition for exiting the loop is not met."
   ]
  },
  {
   "cell_type": "markdown",
   "id": "e132ad0f-5373-4ad6-8499-33a75b8d6ec2",
   "metadata": {},
   "source": [
    "### Example\n",
    "- Else After For"
   ]
  },
  {
   "cell_type": "code",
   "execution_count": 14,
   "id": "b1158edd-d108-49de-8ead-8070923ee125",
   "metadata": {},
   "outputs": [
    {
     "name": "stdout",
     "output_type": "stream",
     "text": [
      "2 is a prime number\n",
      "3 is a prime number\n",
      "4 is not a prime number\n",
      "5 is a prime number\n",
      "6 is not a prime number\n",
      "7 is a prime number\n",
      "8 is not a prime number\n",
      "9 is not a prime number\n"
     ]
    }
   ],
   "source": [
    "for a in range(2, 10):\n",
    "    is_prime = True\n",
    "    for i in range(2, a):\n",
    "        if a % i == 0:\n",
    "            is_prime = False\n",
    "            break\n",
    "    if is_prime:\n",
    "        print(\"{} is a prime number\".format(a))\n",
    "    else:\n",
    "        print(\"{} is not a prime number\".format(a))"
   ]
  },
  {
   "cell_type": "code",
   "execution_count": null,
   "id": "83463c45-bd49-4af2-b87f-d4847e5497a5",
   "metadata": {},
   "outputs": [],
   "source": []
  }
 ],
 "metadata": {
  "kernelspec": {
   "display_name": "Python 3 (ipykernel)",
   "language": "python",
   "name": "python3"
  },
  "language_info": {
   "codemirror_mode": {
    "name": "ipython",
    "version": 3
   },
   "file_extension": ".py",
   "mimetype": "text/x-python",
   "name": "python",
   "nbconvert_exporter": "python",
   "pygments_lexer": "ipython3",
   "version": "3.11.7"
  }
 },
 "nbformat": 4,
 "nbformat_minor": 5
}
