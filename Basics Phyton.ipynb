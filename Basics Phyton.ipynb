{
 "cells": [
  {
   "cell_type": "markdown",
   "id": "76d39871-0312-4748-9bb4-bb86a9a821b8",
   "metadata": {},
   "source": [
    "# CREATING PHYTON BASICS\n",
    "\r\n",
    "Creating Python basics refers to the fundamental skills and knowledge required to develop simple programs or scripts using the Python programming language. This typically includes understanding basic syntax, data types, control structures (such as loops and conditional statements), functions, and how to work with variables and data structures like lists, tuples, dictionaries, etc. Additionally, it involves learning how to use built-in functions and libraries, handling errors, and writing clean and efficient code. Overall, mastering the basics of Python programming is essential for anyone looking to start their journey in software development or data science using Python\n",
    "\n",
    "## 1. Variable\n",
    "Variables in Python are symbols used to store values that can change during the execution of a program. You can assign any name to your variables, and Python will automatically assign a data type based on the value assigned to the variable. For example, a variable x can hold integer, string, or even object values such as lists or dictionaries.\n",
    "\n",
    "### Example."
   ]
  },
  {
   "cell_type": "code",
   "execution_count": 1,
   "id": "31ec61fc-8bcc-40df-bc34-793ba2c9645d",
   "metadata": {},
   "outputs": [
    {
     "name": "stdout",
     "output_type": "stream",
     "text": [
      "5\n",
      "Alnima\n",
      "True\n"
     ]
    }
   ],
   "source": [
    "x = 5         # x is a variable with an integer value\n",
    "name = \"Alnima\" # name is a variable with a string value\n",
    "is_active = True  # is_active is a variable with a boolean value\n",
    "\n",
    "print(x)\n",
    "print(name)\n",
    "print(is_active)"
   ]
  },
  {
   "cell_type": "markdown",
   "id": "b15e566d-8ae9-4b68-a498-6939b7a451c2",
   "metadata": {},
   "source": [
    "_In the example above, we define several variables with names x, name, and is_active, each with a different data type. These variables are then used in the print() statements to output the values stored in them. Python automatically adjusts the data type of the variable based on the value assigned to it._"
   ]
  },
  {
   "cell_type": "markdown",
   "id": "41a7773f-5d8f-4c49-b73a-fd54d89e2780",
   "metadata": {},
   "source": [
    "## 2. Print () Function\n",
    "The print() function in Python is used to display the specified message or value to the screen. It outputs the text or variable content to the standard output device, typically the console or terminal. The print() function can accept multiple arguments separated by commas, and it will concatenate them together to form a single string for output.\n",
    "\n",
    "### Example"
   ]
  },
  {
   "cell_type": "code",
   "execution_count": 2,
   "id": "4350f4a2-5b8d-4ef5-9b66-6f946977a8dd",
   "metadata": {},
   "outputs": [
    {
     "name": "stdout",
     "output_type": "stream",
     "text": [
      "Name: Alnima Age: 21\n",
      "Name:, Alnima, Age:, 21.\n"
     ]
    }
   ],
   "source": [
    "name = \"Alnima\"\n",
    "age = 21\n",
    "\n",
    "# Printing variables with default separator and newline\n",
    "print(\"Name:\", name, \"Age:\", age)\n",
    "\n",
    "# Printing variables with custom separator and end\n",
    "print(\"Name:\", name, \"Age:\", age, sep=', ', end='.\\n')"
   ]
  },
  {
   "cell_type": "markdown",
   "id": "7f934024-f3a5-480a-bec2-7febdeaee59a",
   "metadata": {},
   "source": [
    "_In this example, we use the print() function to output the values of variables name and age with custom separators and ending characters._"
   ]
  },
  {
   "cell_type": "markdown",
   "id": "082c95e6-4f48-4397-97a4-cf6eca387fc4",
   "metadata": {},
   "source": [
    "## 3. Input () Function\n",
    "The input() function in Python is used to receive input from the user through the keyboard. It allows the program to pause and wait for the user to enter some data, which is then returned as a string. \n",
    "\n",
    "### Example"
   ]
  },
  {
   "cell_type": "code",
   "execution_count": 3,
   "id": "3dd0a9d5-56a0-4a81-a44e-25ff0bdfca7e",
   "metadata": {},
   "outputs": [
    {
     "name": "stdin",
     "output_type": "stream",
     "text": [
      "Enter your name:  Alnima Shakiya\n"
     ]
    },
    {
     "name": "stdout",
     "output_type": "stream",
     "text": [
      "Hello, Alnima Shakiya! Welcome to Python.\n"
     ]
    }
   ],
   "source": [
    "name = input(\"Enter your name: \")\n",
    "print(\"Hello, \" + name + \"! Welcome to Python.\")"
   ]
  },
  {
   "cell_type": "markdown",
   "id": "dc514ea6-3c58-4410-ab8e-0cdea20ab931",
   "metadata": {},
   "source": [
    "_In this example, the input() function displays the prompt \"Enter your name: \" to the user. The user then enters their name, and the input is stored in the variable name. The program then prints a greeting message using the entered name._"
   ]
  },
  {
   "cell_type": "markdown",
   "id": "46cfe7f2-9f8d-4fdd-94f3-b6b32f6747fb",
   "metadata": {},
   "source": [
    "## String Operation\n",
    "String operations in Python refer to various manipulations and transformations that can be performed on strings, which are sequences of characters. Python provides a rich set of built-in string methods and operators to perform these operations.\n",
    "\n",
    "### Example"
   ]
  },
  {
   "cell_type": "code",
   "execution_count": 4,
   "id": "20c8b0bb-3ff9-4bb5-8edd-f70d589f23ea",
   "metadata": {},
   "outputs": [],
   "source": [
    "str1 = \"Hello\""
   ]
  },
  {
   "cell_type": "code",
   "execution_count": 5,
   "id": "0d82fe4f-e0b1-452d-aeea-00461deecc41",
   "metadata": {},
   "outputs": [],
   "source": [
    "str2 = \"World\""
   ]
  },
  {
   "cell_type": "code",
   "execution_count": 6,
   "id": "6191d9c6-9547-477a-a00a-3eec34fb94b9",
   "metadata": {},
   "outputs": [],
   "source": [
    "result = str1 + \" \" + str2"
   ]
  },
  {
   "cell_type": "code",
   "execution_count": 7,
   "id": "521ee3ee-c865-4c2e-9f0f-a01bd903d351",
   "metadata": {},
   "outputs": [
    {
     "name": "stdout",
     "output_type": "stream",
     "text": [
      "Hello World\n"
     ]
    }
   ],
   "source": [
    "print(result)"
   ]
  },
  {
   "cell_type": "code",
   "execution_count": 12,
   "id": "2946a5d7-fb49-43fe-88fe-313c48b2256e",
   "metadata": {},
   "outputs": [
    {
     "name": "stdout",
     "output_type": "stream",
     "text": [
      "P\n"
     ]
    }
   ],
   "source": [
    "#Indexing and Slicing: Accessing individual characters or a substring from a string using index positions.\n",
    "s = \"Python\"\n",
    "print(s[0])"
   ]
  },
  {
   "cell_type": "code",
   "execution_count": 13,
   "id": "e47dd408-4f9c-467b-875e-23dbbccc5e9c",
   "metadata": {},
   "outputs": [
    {
     "name": "stdout",
     "output_type": "stream",
     "text": [
      "n\n"
     ]
    }
   ],
   "source": [
    "print(s[-1])"
   ]
  },
  {
   "cell_type": "code",
   "execution_count": 14,
   "id": "e0bab1f2-ec0a-41b3-878d-f5ed60d7bd9c",
   "metadata": {},
   "outputs": [
    {
     "name": "stdout",
     "output_type": "stream",
     "text": [
      "yth\n"
     ]
    }
   ],
   "source": [
    "print(s[1:4])"
   ]
  },
  {
   "cell_type": "code",
   "execution_count": 15,
   "id": "7818b018-9584-445c-8d15-b1cddd1ed39e",
   "metadata": {},
   "outputs": [
    {
     "name": "stdout",
     "output_type": "stream",
     "text": [
      "5\n"
     ]
    }
   ],
   "source": [
    "#Finding the length of a string\n",
    "s = \"Hello\"\n",
    "length = len(s)\n",
    "print(length)"
   ]
  },
  {
   "cell_type": "code",
   "execution_count": 16,
   "id": "87cd9a23-eb0b-4c41-8c35-e07cd2b79b7d",
   "metadata": {},
   "outputs": [
    {
     "name": "stdout",
     "output_type": "stream",
     "text": [
      "HELLO\n"
     ]
    }
   ],
   "source": [
    "#Case Conversion: Converting the case of characters in a string.\n",
    "s = \"hello\"\n",
    "upper_case = s.upper()\n",
    "lower_case = s.lower()\n",
    "print(upper_case)"
   ]
  },
  {
   "cell_type": "code",
   "execution_count": 17,
   "id": "2b30e911-2ad5-4e70-a745-87c9251947e5",
   "metadata": {},
   "outputs": [
    {
     "name": "stdout",
     "output_type": "stream",
     "text": [
      "hello\n"
     ]
    }
   ],
   "source": [
    "print(lower_case)"
   ]
  },
  {
   "cell_type": "code",
   "execution_count": 18,
   "id": "bf44d30e-6aac-4fe5-a594-fa293b70b33f",
   "metadata": {},
   "outputs": [
    {
     "name": "stdout",
     "output_type": "stream",
     "text": [
      "['apple', 'banana', 'orange']\n",
      "apple-banana-orange\n"
     ]
    }
   ],
   "source": [
    "#Splitting and Joining: Splitting a string into a list of substrings or joining a list of strings into a single string.\n",
    "s = \"apple,banana,orange\"\n",
    "fruits_list = s.split(\",\")\n",
    "print(fruits_list)\n",
    "\n",
    "fruits_str = \"-\".join(fruits_list)\n",
    "print(fruits_str)"
   ]
  },
  {
   "cell_type": "markdown",
   "id": "fc061df9-910b-4120-9a0b-3f3a27df03c0",
   "metadata": {},
   "source": [
    "_These are just a few examples of string operations in Python. Python provides many more built-in methods and functions for string manipulation, making it easy to work with text data._\r\n",
    "\r\n",
    "\r\n",
    "\r\n",
    "\r\n",
    "\r\n"
   ]
  },
  {
   "cell_type": "code",
   "execution_count": null,
   "id": "b85f9f86-4e80-426f-9534-a65f23cbb593",
   "metadata": {},
   "outputs": [],
   "source": []
  }
 ],
 "metadata": {
  "kernelspec": {
   "display_name": "Python 3 (ipykernel)",
   "language": "python",
   "name": "python3"
  },
  "language_info": {
   "codemirror_mode": {
    "name": "ipython",
    "version": 3
   },
   "file_extension": ".py",
   "mimetype": "text/x-python",
   "name": "python",
   "nbconvert_exporter": "python",
   "pygments_lexer": "ipython3",
   "version": "3.11.7"
  }
 },
 "nbformat": 4,
 "nbformat_minor": 5
}
