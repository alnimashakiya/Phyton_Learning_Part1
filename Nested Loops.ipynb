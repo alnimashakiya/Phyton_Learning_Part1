{
 "cells": [
  {
   "cell_type": "markdown",
   "id": "cc1d73c4-607d-4f13-b5fc-955ed6b85aaf",
   "metadata": {},
   "source": [
    "# NESTED LOOPS\n",
    "Nested loops in Python, including nested for loops, refer to the concept of placing one loop inside another loop. This means that each iteration of the outer loop triggers all iterations of the inner loop. By using nested for loops, you can iterate through combinations of two or more iterables.\n",
    "\n",
    "## Example"
   ]
  },
  {
   "cell_type": "code",
   "execution_count": 1,
   "id": "893dacc6-8165-48f0-b424-8461992abf6d",
   "metadata": {},
   "outputs": [
    {
     "name": "stdout",
     "output_type": "stream",
     "text": [
      "i: 0, j: 0\n",
      "i: 0, j: 1\n",
      "i: 1, j: 0\n",
      "i: 1, j: 1\n",
      "i: 2, j: 0\n",
      "i: 2, j: 1\n"
     ]
    }
   ],
   "source": [
    "for i in range(3):\n",
    "    for j in range(2):\n",
    "        print(f\"i: {i}, j: {j}\")"
   ]
  },
  {
   "cell_type": "markdown",
   "id": "f7be1682-8875-4d9c-82ed-679f87ddd453",
   "metadata": {},
   "source": [
    "_In this example, the outer loop iterates over the values 0, 1, and 2. For each iteration of the outer loop, the inner loop iterates over the values 0 and 1. As a result, the print statement inside the inner loop is executed six times, producing all possible combinations of i and j._"
   ]
  },
  {
   "cell_type": "code",
   "execution_count": 4,
   "id": "c65565d5-c903-4880-9916-b32c271f8cc4",
   "metadata": {},
   "outputs": [
    {
     "name": "stdout",
     "output_type": "stream",
     "text": [
      "* \n",
      "* * \n",
      "* * * \n",
      "* * * * \n",
      "* * * * * \n"
     ]
    }
   ],
   "source": [
    "# Triangle size\n",
    "size = 5\n",
    "\n",
    "# Loop for each row\n",
    "for i in range(size):\n",
    "    # Loop for each column in each row\n",
    "    for j in range(i + 1):\n",
    "        print(\"*\", end=\" \")\n",
    "    print()  # Move to the next line after finishing printing the columns for the current row"
   ]
  },
  {
   "cell_type": "markdown",
   "id": "f780fed4-a6a5-40ad-9ac4-5f7f2022eaa8",
   "metadata": {},
   "source": [
    "_In this example, we use two nested loops: the outer loop to control the rows and the inner loop to control the columns. Each time the outer loop runs, we print the appropriate number of stars corresponding to the current row number, starting from one star for the first row and increasing one star each time we move to the next row._"
   ]
  },
  {
   "cell_type": "code",
   "execution_count": 5,
   "id": "eaefea4b-87c4-42bc-8a11-9e559e33d2a2",
   "metadata": {},
   "outputs": [
    {
     "name": "stdout",
     "output_type": "stream",
     "text": [
      "*****\n",
      " ****\n",
      "  ***\n",
      "   **\n",
      "    *\n"
     ]
    }
   ],
   "source": [
    "# Triangle size\n",
    "size = 5\n",
    "\n",
    "# Loop for each row\n",
    "for i in range(size):\n",
    "    # Loop for each column in each row\n",
    "    for j in range(size):\n",
    "        # Print space if the column number is less than the row number\n",
    "        if j < i:\n",
    "            print(\" \", end=\"\")\n",
    "        else:\n",
    "            # Otherwise, print a star\n",
    "            print(\"*\", end=\"\")\n",
    "    # Move to the next line after finishing printing the columns for the current row\n",
    "    print()"
   ]
  },
  {
   "cell_type": "markdown",
   "id": "8a1a08ef-5c05-4a99-b0bc-fd622bba8cd2",
   "metadata": {},
   "source": [
    "_In this example, we use two nested loops: the outer loop to control the rows and the inner loop to control the columns. Within the inner loop, we use an if statement to decide whether to print a space or a star based on the relationship between the row number i and the column number j. If j is less than i, we print a space; otherwise, we print a star. This approach creates an inverted triangle._"
   ]
  },
  {
   "cell_type": "code",
   "execution_count": null,
   "id": "62310398-7cbf-43af-ab71-60ba103f6c11",
   "metadata": {},
   "outputs": [],
   "source": []
  }
 ],
 "metadata": {
  "kernelspec": {
   "display_name": "Python 3 (ipykernel)",
   "language": "python",
   "name": "python3"
  },
  "language_info": {
   "codemirror_mode": {
    "name": "ipython",
    "version": 3
   },
   "file_extension": ".py",
   "mimetype": "text/x-python",
   "name": "python",
   "nbconvert_exporter": "python",
   "pygments_lexer": "ipython3",
   "version": "3.11.7"
  }
 },
 "nbformat": 4,
 "nbformat_minor": 5
}
