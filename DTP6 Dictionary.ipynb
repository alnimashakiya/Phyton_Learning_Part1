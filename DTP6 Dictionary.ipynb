{
 "cells": [
  {
   "cell_type": "markdown",
   "id": "29bb8b93-c25e-41ef-b091-eb00e3efd399",
   "metadata": {},
   "source": [
    "## Dictionary\n",
    "\r\n",
    "In Python, a dictionary is a built-in data type used to store key-value pairs. It is mutable, unordered, and indexed. Dictionaries are defined using curly braces {}, and each key-value pair is separated by a colon :. Keys must be unique and immutable, such as strings, numbers, or tuples, while values can be of any data type\n",
    "\n",
    "### Example."
   ]
  },
  {
   "cell_type": "code",
   "execution_count": 2,
   "id": "ac8a522f-c749-48c5-9ba5-bde7e7f983dd",
   "metadata": {},
   "outputs": [
    {
     "name": "stdout",
     "output_type": "stream",
     "text": [
      "Name: Alnima\n",
      "Age: 21\n",
      "Major: Human Resource Management\n",
      "Semester: 6\n"
     ]
    }
   ],
   "source": [
    "# Creating a dictionary containing student information\n",
    "student = {\n",
    "    \"name\": \"Alnima\",\n",
    "    \"age\": 21,\n",
    "    \"major\": \"Human Resource Management\",\n",
    "    \"semester\": 6\n",
    "}\n",
    "\n",
    "# Displaying student information\n",
    "print(\"Name:\", student[\"name\"])\n",
    "print(\"Age:\", student[\"age\"])\n",
    "print(\"Major:\", student[\"major\"])\n",
    "print(\"Semester:\", student[\"semester\"])"
   ]
  },
  {
   "cell_type": "markdown",
   "id": "38225cfe-357c-4de9-99ec-f927a6ce7ffd",
   "metadata": {},
   "source": [
    "_In the example above, student is a dictionary containing information about a student. Each element in the dictionary is a key-value pair representing attributes such as name, age, major, and semester. We then display this information by accessing the value of each key in the dictionary._"
   ]
  },
  {
   "cell_type": "code",
   "execution_count": null,
   "id": "799a95f6-1253-447d-aab7-89e854430910",
   "metadata": {},
   "outputs": [],
   "source": []
  }
 ],
 "metadata": {
  "kernelspec": {
   "display_name": "Python 3 (ipykernel)",
   "language": "python",
   "name": "python3"
  },
  "language_info": {
   "codemirror_mode": {
    "name": "ipython",
    "version": 3
   },
   "file_extension": ".py",
   "mimetype": "text/x-python",
   "name": "python",
   "nbconvert_exporter": "python",
   "pygments_lexer": "ipython3",
   "version": "3.11.7"
  }
 },
 "nbformat": 4,
 "nbformat_minor": 5
}
