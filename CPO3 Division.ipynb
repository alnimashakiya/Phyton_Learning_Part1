{
 "cells": [
  {
   "cell_type": "markdown",
   "id": "1f2c2f4b-a667-4dbd-b535-8a6307eb12d2",
   "metadata": {},
   "source": [
    "## Division\n",
    "In Python, division is a fundamental arithmetic operation used to divide one number by another. You can perform division using the / operator. Python supports two types of division: floating-point division and integer division.\n",
    "\n",
    "### 1. Floating-Point Division\n",
    "Floating-point division returns the quotient as a floating-point number, including the fractional part of the result.\n",
    "\n",
    "#### Example"
   ]
  },
  {
   "cell_type": "code",
   "execution_count": 5,
   "id": "78cf77d7-d995-47de-9fdb-ebf3799afe5a",
   "metadata": {},
   "outputs": [
    {
     "name": "stdout",
     "output_type": "stream",
     "text": [
      "3.3333333333333335\n"
     ]
    }
   ],
   "source": [
    "result = 10 / 3\n",
    "print(result)"
   ]
  },
  {
   "cell_type": "markdown",
   "id": "91ae1889-48d8-4c22-bd23-e6c1cd5bf367",
   "metadata": {},
   "source": [
    "### 2. Integer Division (Floor Division)\n",
    "Integer division returns the quotient as an integer, discarding any fractional part of the result. It is performed using the // operator.\n",
    "\n",
    "#### Example"
   ]
  },
  {
   "cell_type": "code",
   "execution_count": 6,
   "id": "4b370f67-0095-48aa-a8a2-b428546b235a",
   "metadata": {},
   "outputs": [
    {
     "name": "stdout",
     "output_type": "stream",
     "text": [
      "3\n"
     ]
    }
   ],
   "source": [
    "result = 10 // 3\n",
    "print(result)"
   ]
  },
  {
   "cell_type": "markdown",
   "id": "f504d2dd-8014-4c17-adc3-3ffda708dcd0",
   "metadata": {},
   "source": [
    "### 3. Division with Variable\n",
    "You can also perform division with variables containing numerical values.\n",
    "\n",
    "#### Example"
   ]
  },
  {
   "cell_type": "code",
   "execution_count": 7,
   "id": "5d9603d4-23bb-4ef1-a962-8ca1955569da",
   "metadata": {},
   "outputs": [
    {
     "name": "stdout",
     "output_type": "stream",
     "text": [
      "2.5\n"
     ]
    }
   ],
   "source": [
    "a = 10\n",
    "b = 4\n",
    "result = a / b\n",
    "print(result)"
   ]
  },
  {
   "cell_type": "markdown",
   "id": "46c0ffcc-e608-4d9f-aae3-4794b1087f0d",
   "metadata": {},
   "source": [
    "### 4. Division by Zero\n",
    "Attempting to divide by zero raises a ZeroDivisionError in Python.\n",
    "\n",
    "#### Example"
   ]
  },
  {
   "cell_type": "code",
   "execution_count": 8,
   "id": "16d92610-e19d-4ae9-8161-4d06756ed778",
   "metadata": {},
   "outputs": [
    {
     "ename": "ZeroDivisionError",
     "evalue": "division by zero",
     "output_type": "error",
     "traceback": [
      "\u001b[1;31m---------------------------------------------------------------------------\u001b[0m",
      "\u001b[1;31mZeroDivisionError\u001b[0m                         Traceback (most recent call last)",
      "Cell \u001b[1;32mIn[8], line 1\u001b[0m\n\u001b[1;32m----> 1\u001b[0m result \u001b[38;5;241m=\u001b[39m \u001b[38;5;241m10\u001b[39m \u001b[38;5;241m/\u001b[39m \u001b[38;5;241m0\u001b[39m\n",
      "\u001b[1;31mZeroDivisionError\u001b[0m: division by zero"
     ]
    }
   ],
   "source": [
    "result = 10 / 0  # This will raise a ZeroDivisionError"
   ]
  },
  {
   "cell_type": "markdown",
   "id": "1c1009fa-b78c-4f82-bb10-6b28f2b18b42",
   "metadata": {},
   "source": [
    "_These are some common examples illustrating how division works in Python, both for floating-point and integer division scenarios._"
   ]
  },
  {
   "cell_type": "code",
   "execution_count": null,
   "id": "671254ef-e091-4b6a-a61b-3ece2c83188d",
   "metadata": {},
   "outputs": [],
   "source": []
  }
 ],
 "metadata": {
  "kernelspec": {
   "display_name": "Python 3 (ipykernel)",
   "language": "python",
   "name": "python3"
  },
  "language_info": {
   "codemirror_mode": {
    "name": "ipython",
    "version": 3
   },
   "file_extension": ".py",
   "mimetype": "text/x-python",
   "name": "python",
   "nbconvert_exporter": "python",
   "pygments_lexer": "ipython3",
   "version": "3.11.7"
  }
 },
 "nbformat": 4,
 "nbformat_minor": 5
}
