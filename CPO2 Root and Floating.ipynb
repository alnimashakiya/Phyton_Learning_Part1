{
 "cells": [
  {
   "cell_type": "markdown",
   "id": "a12be94c-58fa-45c6-b8cc-bb0c729e19d6",
   "metadata": {},
   "source": [
    "## Root\n",
    "\r\n",
    "In Python, finding the root of a number typically refers to finding the square root, cube root, or nth root of a given number\n",
    "\n",
    "### 1. Square Root\n",
    "You can find the square root of a number using the sqrt() function from the math module or by raising the number to the power of 0.5.."
   ]
  },
  {
   "cell_type": "code",
   "execution_count": 1,
   "id": "456a6f73-5639-4cc4-810f-dca4c0f78943",
   "metadata": {},
   "outputs": [
    {
     "name": "stdout",
     "output_type": "stream",
     "text": [
      "Square Root: 4.0\n",
      "Square Root: 4.0\n"
     ]
    }
   ],
   "source": [
    "import math\n",
    "\n",
    "# Using math.sqrt() function\n",
    "result = math.sqrt(16)\n",
    "print(\"Square Root:\", result)\n",
    "\n",
    "# Using exponentiation (**) operator\n",
    "result = 16 ** 0.5\n",
    "print(\"Square Root:\", result)\n"
   ]
  },
  {
   "cell_type": "markdown",
   "id": "03d0e108-6a99-496e-bb5a-e642396a5620",
   "metadata": {},
   "source": [
    "### 2. Cube Root\n",
    "Similarly, you can find the cube root of a number by raising the number to the power of 1/3."
   ]
  },
  {
   "cell_type": "code",
   "execution_count": 2,
   "id": "22610b12-50be-488a-a575-a1bc05ef4f01",
   "metadata": {},
   "outputs": [
    {
     "name": "stdout",
     "output_type": "stream",
     "text": [
      "Cube Root: 3.0\n"
     ]
    }
   ],
   "source": [
    "# Using exponentiation (**) operator\n",
    "result = 27 ** (1/3)\n",
    "print(\"Cube Root:\", result)"
   ]
  },
  {
   "cell_type": "markdown",
   "id": "6df0f430-da4a-4f40-8d5b-fdf393deb9f2",
   "metadata": {},
   "source": [
    "### 3. Nth Root\n",
    "To find the nth root of a number, you can raise the number to the power of 1/n."
   ]
  },
  {
   "cell_type": "code",
   "execution_count": 3,
   "id": "7e3d30c7-9360-4b1c-9d6b-2edc95a33746",
   "metadata": {},
   "outputs": [
    {
     "name": "stdout",
     "output_type": "stream",
     "text": [
      "4th Root: 3.0\n"
     ]
    }
   ],
   "source": [
    "# Finding the 4th root of 81\n",
    "result = 81 ** (1/4)\n",
    "print(\"4th Root:\", result)"
   ]
  },
  {
   "cell_type": "markdown",
   "id": "548a53d7-c3d7-4b61-8a97-30ded3dd5d6d",
   "metadata": {},
   "source": [
    "## Floating\n",
    "In Python, division is a basic arithmetic operation used to divide one number by another. You can perform division using the / operator. Python supports both integer division and floating-point division.\n",
    "\n",
    "### Example"
   ]
  },
  {
   "cell_type": "code",
   "execution_count": 4,
   "id": "35e450f6-d2d0-4288-95b5-78f83835c712",
   "metadata": {},
   "outputs": [
    {
     "name": "stdout",
     "output_type": "stream",
     "text": [
      "3.3333333333333335\n",
      "4.0\n"
     ]
    }
   ],
   "source": [
    "# Floating-point division of two integers\n",
    "result = 10 / 3\n",
    "print(result)\n",
    "\n",
    "# Floating-point division of an integer and a float\n",
    "result = 10 / 2.5\n",
    "print(result)\n"
   ]
  },
  {
   "cell_type": "code",
   "execution_count": 5,
   "id": "b7c8907e-b676-4085-b418-f10158ff42e1",
   "metadata": {},
   "outputs": [
    {
     "name": "stdout",
     "output_type": "stream",
     "text": [
      "3\n",
      "3.0\n"
     ]
    }
   ],
   "source": [
    "# Integer division of two integers\n",
    "result = 10 // 3\n",
    "print(result)\n",
    "\n",
    "# Integer division of an integer and a float\n",
    "result = 10 // 3.0\n",
    "print(result)\n"
   ]
  },
  {
   "cell_type": "code",
   "execution_count": 6,
   "id": "8b73afc3-a14a-43a4-8462-7f0cea345a90",
   "metadata": {},
   "outputs": [
    {
     "name": "stdout",
     "output_type": "stream",
     "text": [
      "2.5\n"
     ]
    }
   ],
   "source": [
    "# Division with variables\n",
    "a = 10\n",
    "b = 4\n",
    "result = a / b\n",
    "print(result)"
   ]
  },
  {
   "cell_type": "code",
   "execution_count": 7,
   "id": "a59ccabf-abd6-4940-9970-55e11c2125fb",
   "metadata": {},
   "outputs": [
    {
     "ename": "ZeroDivisionError",
     "evalue": "division by zero",
     "output_type": "error",
     "traceback": [
      "\u001b[1;31m---------------------------------------------------------------------------\u001b[0m",
      "\u001b[1;31mZeroDivisionError\u001b[0m                         Traceback (most recent call last)",
      "Cell \u001b[1;32mIn[7], line 2\u001b[0m\n\u001b[0;32m      1\u001b[0m \u001b[38;5;66;03m# Division by zero\u001b[39;00m\n\u001b[1;32m----> 2\u001b[0m result \u001b[38;5;241m=\u001b[39m \u001b[38;5;241m10\u001b[39m \u001b[38;5;241m/\u001b[39m \u001b[38;5;241m0\u001b[39m\n",
      "\u001b[1;31mZeroDivisionError\u001b[0m: division by zero"
     ]
    }
   ],
   "source": [
    "# Division by zero\n",
    "result = 10 / 0  # This will raise a ZeroDivisionError"
   ]
  },
  {
   "cell_type": "markdown",
   "id": "c1561e67-1f9d-4c12-a703-cb134146fa1b",
   "metadata": {},
   "source": [
    "_In each example, the / operator is used to perform division. If both operands are integers, Python performs floating-point division by default, resulting in a floating-point quotient. To perform integer division (also known as floor division), you can use the // operator, which truncates the fractional part of the result. Additionally, attempting to divide by zero will raise a ZeroDivisionError unless handled appropriately._"
   ]
  },
  {
   "cell_type": "code",
   "execution_count": null,
   "id": "0fc7accf-3271-47ff-999b-af310b8b8138",
   "metadata": {},
   "outputs": [],
   "source": []
  }
 ],
 "metadata": {
  "kernelspec": {
   "display_name": "Python 3 (ipykernel)",
   "language": "python",
   "name": "python3"
  },
  "language_info": {
   "codemirror_mode": {
    "name": "ipython",
    "version": 3
   },
   "file_extension": ".py",
   "mimetype": "text/x-python",
   "name": "python",
   "nbconvert_exporter": "python",
   "pygments_lexer": "ipython3",
   "version": "3.11.7"
  }
 },
 "nbformat": 4,
 "nbformat_minor": 5
}
