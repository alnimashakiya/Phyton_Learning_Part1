{
 "cells": [
  {
   "cell_type": "markdown",
   "id": "d5799b61-2c9e-424f-a173-759565fa3a4e",
   "metadata": {},
   "source": [
    "# LIST COMPREHENSION\n",
    "List comprehension is a concise and efficient way to create lists in Python by iterating over an existing sequence or iterable and applying an expression to each element to create a new list. It provides a more compact syntax compared to traditional loop constructs. Here's a brief explanation of list comprehension:\r\n",
    "\r\n",
    "- List comprehension consists of square brackets [], enclosing an expression followed by a for loop within the brackets.\r\n",
    "- It iterates over elements of an iterable (such as a list, tuple, string, or range) and applies the expression to each element to generate a new list.\r\n",
    "- The resulting list can optionally include conditions (using if statements) to filter elements based on certain criteria.\r\n",
    "- List comprehension is often used to perform mapping, filtering, and transformation operations on lists."
   ]
  },
  {
   "cell_type": "markdown",
   "id": "fcc26015-19db-4d73-9a18-f8ad0c741491",
   "metadata": {},
   "source": [
    "## Example"
   ]
  },
  {
   "cell_type": "code",
   "execution_count": 4,
   "id": "f6315de5-2210-4054-bcb2-1dcb77ea49bd",
   "metadata": {},
   "outputs": [
    {
     "name": "stdout",
     "output_type": "stream",
     "text": [
      "[1, 4, 9, 16, 25]\n"
     ]
    }
   ],
   "source": [
    "# Create a list of squares of numbers from 1 to 5 using traditional loop\n",
    "squares = []\n",
    "for i in range(1, 6):\n",
    "    squares.append(i ** 2)\n",
    "print(squares)"
   ]
  },
  {
   "cell_type": "code",
   "execution_count": 5,
   "id": "671a0bdd-a2f2-413d-bc7b-515a98cff071",
   "metadata": {},
   "outputs": [
    {
     "name": "stdout",
     "output_type": "stream",
     "text": [
      "[1, 4, 9, 16, 25]\n"
     ]
    }
   ],
   "source": [
    "# Create the same list using list comprehension\n",
    "squares = [i ** 2 for i in range(1, 6)]\n",
    "print(squares)"
   ]
  },
  {
   "cell_type": "markdown",
   "id": "0ec789d0-40a3-4648-aef3-2963aae14bb1",
   "metadata": {},
   "source": [
    "_In this example, the list comprehension [i ** 2 for i in range(1, 6)] generates a list of squares of numbers from 1 to 5. The expression i ** 2 calculates the square of each number i, and the for loop iterates over the range (1, 6), which includes numbers from 1 to 5. The resulting list [1, 4, 9, 16, 25] contains the squares of these numbers. List comprehension allows you to achieve the same result in a single line of code, making it concise and readable._"
   ]
  },
  {
   "cell_type": "code",
   "execution_count": 6,
   "id": "80bce926-032d-4a6f-b7e9-18da9d7d25e0",
   "metadata": {},
   "outputs": [
    {
     "name": "stdout",
     "output_type": "stream",
     "text": [
      "[2, 4, 6, 8, 10]\n"
     ]
    }
   ],
   "source": [
    "#Creating a list of even numbers from 1 to 10:\n",
    "even_numbers = [x for x in range(1, 11) if x % 2 == 0]\n",
    "print(even_numbers)"
   ]
  },
  {
   "cell_type": "code",
   "execution_count": 7,
   "id": "595f2ee1-5c13-4050-bef3-e35d33c42133",
   "metadata": {},
   "outputs": [
    {
     "name": "stdout",
     "output_type": "stream",
     "text": [
      "['A', 'L', 'N', 'I', 'M', 'A', 'S', 'H', 'A', 'K', 'I', 'Y', 'A']\n"
     ]
    }
   ],
   "source": [
    "#Creating a list of uppercase characters from a string:\n",
    "text = \"Alnima Shakiya\"\n",
    "upper_chars = [char.upper() for char in text if char.isalpha()]\n",
    "print(upper_chars)"
   ]
  },
  {
   "cell_type": "code",
   "execution_count": 8,
   "id": "a66484be-d396-4380-a14f-64ebe05dc5d9",
   "metadata": {},
   "outputs": [
    {
     "name": "stdout",
     "output_type": "stream",
     "text": [
      "[(1, 1), (2, 4), (3, 9), (4, 16), (5, 25)]\n"
     ]
    }
   ],
   "source": [
    "#Creating a list of tuples containing the number and its square:\n",
    "squares_tuples = [(x, x ** 2) for x in range(1, 6)]\n",
    "print(squares_tuples)"
   ]
  },
  {
   "cell_type": "code",
   "execution_count": 9,
   "id": "3c113732-8210-494a-a03f-f16e9c184226",
   "metadata": {},
   "outputs": [
    {
     "name": "stdout",
     "output_type": "stream",
     "text": [
      "[1, 2, 3, 4, 5, 6, 7, 8, 9]\n"
     ]
    }
   ],
   "source": [
    "#Flattening a list of lists:\n",
    "nested_lists = [[1, 2, 3], [4, 5, 6], [7, 8, 9]]\n",
    "flattened_list = [num for sublist in nested_lists for num in sublist]\n",
    "print(flattened_list)"
   ]
  },
  {
   "cell_type": "markdown",
   "id": "193230cf-f1e8-4037-933e-423839083d52",
   "metadata": {},
   "source": [
    "_These examples demonstrate various applications of list comprehensions, including filtering elements, transforming data, and creating new structures from existing ones, all in a concise and readable manner._"
   ]
  },
  {
   "cell_type": "code",
   "execution_count": null,
   "id": "f6bc279d-fa7c-4442-97d7-7d64edb92835",
   "metadata": {},
   "outputs": [],
   "source": []
  }
 ],
 "metadata": {
  "kernelspec": {
   "display_name": "Python 3 (ipykernel)",
   "language": "python",
   "name": "python3"
  },
  "language_info": {
   "codemirror_mode": {
    "name": "ipython",
    "version": 3
   },
   "file_extension": ".py",
   "mimetype": "text/x-python",
   "name": "python",
   "nbconvert_exporter": "python",
   "pygments_lexer": "ipython3",
   "version": "3.11.7"
  }
 },
 "nbformat": 4,
 "nbformat_minor": 5
}
