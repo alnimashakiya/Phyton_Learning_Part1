{
 "cells": [
  {
   "cell_type": "markdown",
   "id": "a8c7e98c-4983-47cf-93d1-847f4ae2a46e",
   "metadata": {},
   "source": [
    "## Tuple\n",
    "In Python, a tuple is a collection data type used to store an ordered sequence of elements. Tuples are similar to lists, but they are immutable, which means once created, their elements cannot be changed or modified. Tuples are defined by enclosing the elements in parentheses () and separating them by commas."
   ]
  },
  {
   "cell_type": "markdown",
   "id": "a058fab5-d07c-40d0-804a-28f24cd24e4d",
   "metadata": {},
   "source": [
    "Tuples in Python are ordered collections, ensuring that the sequence in which elements are added remains intact. They possess the capability to hold elements of various data types, spanning integers, floats, strings, and even nested tuples. Accessing elements within a tuple is akin to lists, relying on indexing. A notable characteristic of tuples is their immutability, signifying that once formed, their elements cannot be altered, appended, or deleted. Consequently, tuples find frequent application in depicting fixed assortments of items, exemplified by use cases like representing coordinates, database records, or configuration settings."
   ]
  },
  {
   "cell_type": "markdown",
   "id": "2e2bd32c-fda5-4a6a-a426-2d16cd5ab295",
   "metadata": {},
   "source": [
    "### Example"
   ]
  },
  {
   "cell_type": "code",
   "execution_count": 1,
   "id": "a3f3525a-b791-444a-98de-f44a3abb28fb",
   "metadata": {},
   "outputs": [
    {
     "name": "stdout",
     "output_type": "stream",
     "text": [
      "Name: Alnima Shakiya\n",
      "Age: 21\n",
      "Major: Human Resource Management\n"
     ]
    }
   ],
   "source": [
    "# Creating a tuple\n",
    "student_data = ('Alnima Shakiya', 21, 'Human Resource Management')\n",
    "\n",
    "# Accessing tuple elements\n",
    "print(\"Name:\", student_data[0])\n",
    "print(\"Age:\", student_data[1])\n",
    "print(\"Major:\", student_data[2])"
   ]
  },
  {
   "cell_type": "markdown",
   "id": "f1bf4b5c-41da-4247-a4d8-029784f7d892",
   "metadata": {},
   "source": [
    "_In the example above, student_data is a tuple containing information about a student, including their name, age, and major. Tuple elements are accessed using indexing, and the student information is then printed to the screen._"
   ]
  },
  {
   "cell_type": "code",
   "execution_count": 3,
   "id": "b338f49a-2a59-4a74-90c4-4907781360c9",
   "metadata": {},
   "outputs": [
    {
     "name": "stdout",
     "output_type": "stream",
     "text": [
      "Day: Monday\n",
      "X-coordinate: 3\n",
      "Temperature: 22.8\n",
      "Year: 2024\n",
      "Status: False\n"
     ]
    }
   ],
   "source": [
    "# Tuple of days in a week\n",
    "days_of_week = ('Monday', 'Tuesday', 'Wednesday', 'Thursday', 'Friday', 'Saturday', 'Sunday')\n",
    "\n",
    "# Tuple representing a point in 2D space\n",
    "point = (3, 5)\n",
    "\n",
    "# Tuple of temperature readings\n",
    "temperatures = (25.5, 28.3, 22.8, 26.1, 24.9)\n",
    "\n",
    "# Tuple representing a date\n",
    "date = (2024, 4, 5)\n",
    "\n",
    "# Tuple of boolean values\n",
    "is_active = (True, False, True, True)\n",
    "\n",
    "# Accessing tuple elements\n",
    "print(\"Day:\", days_of_week[0])\n",
    "print(\"X-coordinate:\", point[0])\n",
    "print(\"Temperature:\", temperatures[2])\n",
    "print(\"Year:\", date[0])\n",
    "print(\"Status:\", is_active[1])\n"
   ]
  },
  {
   "cell_type": "markdown",
   "id": "b6532121-3db6-4600-b302-b573e20b52f3",
   "metadata": {},
   "source": [
    "_In the examples above, tuples are used to represent various types of data:_\r\n",
    "\r\n",
    "- `days_of_week` is a tuple containing the names of days in a week.\r\n",
    "- `point` is a tuple representing a point in 2D space with x and y coordinates.\r\n",
    "- `temperatures` is a tuple containing temperature values.\r\n",
    "- `date` is a tuple representing a date in the format (year, month, day).\r\n",
    "- `is_active` is a tuple containing boolean values representing active or inactive sta_tus.\r\n",
    "\r\n",
    "Elements of tuples can be accessed using indexes, similar to accessing elements in a list. Tuples provide a simple and efficient way to store and access structured data in_ Python."
   ]
  },
  {
   "cell_type": "code",
   "execution_count": null,
   "id": "c692df34-a9a4-4e14-a4b1-9d70ee426137",
   "metadata": {},
   "outputs": [],
   "source": []
  }
 ],
 "metadata": {
  "kernelspec": {
   "display_name": "Python 3 (ipykernel)",
   "language": "python",
   "name": "python3"
  },
  "language_info": {
   "codemirror_mode": {
    "name": "ipython",
    "version": 3
   },
   "file_extension": ".py",
   "mimetype": "text/x-python",
   "name": "python",
   "nbconvert_exporter": "python",
   "pygments_lexer": "ipython3",
   "version": "3.11.7"
  }
 },
 "nbformat": 4,
 "nbformat_minor": 5
}
