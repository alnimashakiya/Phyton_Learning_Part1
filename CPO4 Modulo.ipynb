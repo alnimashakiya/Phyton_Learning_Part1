{
 "cells": [
  {
   "cell_type": "markdown",
   "id": "4a24525c-f349-4afe-81c3-6a1cc7ab2213",
   "metadata": {},
   "source": [
    "## Modulo\n",
    "In Python, the modulo operator (%) is a mathematical operation that returns the remainder when one number is divided by another. It computes the remainder of the division operation.\n",
    "\n",
    "### Example"
   ]
  },
  {
   "cell_type": "code",
   "execution_count": 1,
   "id": "ca4dab26-58e5-4315-aa1b-8d7eecc2cb00",
   "metadata": {},
   "outputs": [
    {
     "name": "stdout",
     "output_type": "stream",
     "text": [
      "1\n"
     ]
    }
   ],
   "source": [
    "# Modulo operation\n",
    "result = 10 % 3\n",
    "print(result)"
   ]
  },
  {
   "cell_type": "code",
   "execution_count": 2,
   "id": "f8216c16-fb4c-4c87-9067-f104d21bda8b",
   "metadata": {},
   "outputs": [
    {
     "name": "stdout",
     "output_type": "stream",
     "text": [
      "6\n"
     ]
    }
   ],
   "source": [
    "# Modulo operation with variables\n",
    "a = 20\n",
    "b = 7\n",
    "result = a % b\n",
    "print(result)"
   ]
  },
  {
   "cell_type": "code",
   "execution_count": 3,
   "id": "4398372a-92b5-4677-9618-dbc4c0ec840b",
   "metadata": {},
   "outputs": [
    {
     "name": "stdout",
     "output_type": "stream",
     "text": [
      "2\n"
     ]
    }
   ],
   "source": [
    "# Modulo with negative numbers\n",
    "result = -10 % 3\n",
    "print(result)"
   ]
  },
  {
   "cell_type": "code",
   "execution_count": 4,
   "id": "d4a7e6f6-a691-4800-a696-77c2898a43ed",
   "metadata": {},
   "outputs": [
    {
     "name": "stdout",
     "output_type": "stream",
     "text": [
      "0.0\n"
     ]
    }
   ],
   "source": [
    "# Modulo with floating-point numbers\n",
    "result = 7.5 % 2.5\n",
    "print(result)"
   ]
  },
  {
   "cell_type": "markdown",
   "id": "77af2c46-f797-4b43-95e8-81cb9bb06759",
   "metadata": {},
   "source": [
    "_The modulo operator can be used with both integers and floating-point numbers. When the modulo operation is performed with negative numbers, the sign of the result depends on the implementation in Python, but it always follows the rule that (a // b) * b + a % b equals a._"
   ]
  },
  {
   "cell_type": "code",
   "execution_count": null,
   "id": "57413af9-41df-48f0-a65f-9fc022b7e80a",
   "metadata": {},
   "outputs": [],
   "source": []
  }
 ],
 "metadata": {
  "kernelspec": {
   "display_name": "Python 3 (ipykernel)",
   "language": "python",
   "name": "python3"
  },
  "language_info": {
   "codemirror_mode": {
    "name": "ipython",
    "version": 3
   },
   "file_extension": ".py",
   "mimetype": "text/x-python",
   "name": "python",
   "nbconvert_exporter": "python",
   "pygments_lexer": "ipython3",
   "version": "3.11.7"
  }
 },
 "nbformat": 4,
 "nbformat_minor": 5
}
