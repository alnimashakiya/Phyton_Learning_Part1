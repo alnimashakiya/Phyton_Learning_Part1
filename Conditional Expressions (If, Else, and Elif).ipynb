{
 "cells": [
  {
   "cell_type": "markdown",
   "id": "c610f3f8-3d76-41e9-ab47-0daab21616d7",
   "metadata": {},
   "source": [
    "# CONDITIONAL EXPRESSIONS\n",
    "In Python, conditional formatting typically refers to the process of applying specific formatting styles or actions based on certain conditions being met. While conditional formatting is commonly associated with spreadsheet software like Microsoft Excel, you can achieve similar functionality in Python using various libraries or techniques depending on the context.\n",
    "\n",
    "## Conditional Statement\n",
    "You can use conditional statements such as if, elif, and else to execute different blocks of code based on specified conditions. Within these blocks, you can include code to format output or perform specific actions.\n",
    "\n",
    "### 1. If\n",
    "In Python, the if statement is a fundamental part of control flow that allows you to conditionally execute code based on specified conditions. The if statement evaluates a condition and, if the condition is true, it executes a block of code associated with it. If the condition is false, the code block associated with the if statement is skipped.\n",
    "\n",
    "### 2. Elif\n",
    "elif stands for \"else if\". It is part of the if control structure used to evaluate multiple conditions sequentially. If the if condition is not met, then the next elif condition will be evaluated. If any elif condition is met, the associated code block will be executed, and the evaluation will stop. If no if or elif conditions are met, the code block in the else section (if present) will be executed.\n",
    "\n",
    "### 3. Else\n",
    "In Python, the else statement is used in conjunction with the if statement to define a block of code that executes when the if condition evaluates to False. It provides an alternative code block to execute when the condition of the if statement is not met.\n",
    "\n",
    "\n",
    "#### Example"
   ]
  },
  {
   "cell_type": "code",
   "execution_count": 1,
   "id": "940f5ea7-b084-4016-90b3-31afdc216d7d",
   "metadata": {},
   "outputs": [
    {
     "name": "stdout",
     "output_type": "stream",
     "text": [
      "x is positive\n"
     ]
    }
   ],
   "source": [
    "x = 10\n",
    "\n",
    "if x > 0:\n",
    "    print(\"x is positive\")"
   ]
  },
  {
   "cell_type": "code",
   "execution_count": 2,
   "id": "b219b92a-f404-4e93-ba7c-83519b6ba4f8",
   "metadata": {},
   "outputs": [
    {
     "name": "stdout",
     "output_type": "stream",
     "text": [
      "Grade C\n"
     ]
    }
   ],
   "source": [
    "# Assigning a variable value\n",
    "score = 75\n",
    "\n",
    "# Checking score ranges using elif\n",
    "if score >= 90:\n",
    "    print(\"Grade A\")\n",
    "elif score >= 80:\n",
    "    print(\"Grade B\")\n",
    "elif score >= 70:\n",
    "    print(\"Grade C\")\n",
    "elif score >= 60:\n",
    "    print(\"Grade D\")\n",
    "else:\n",
    "    print(\"Grade E\")"
   ]
  },
  {
   "cell_type": "markdown",
   "id": "1dcca59f-89e1-4a91-a870-b7d434ad7516",
   "metadata": {},
   "source": [
    "_In this example, if score is 75, the program will print \"Grade C\". This is because the first condition (score >= 90) is not met, then the program evaluates the second condition (score >= 80). Since this condition is also not met, the program proceeds to the third condition (score >= 70). This condition is met, so the code block associated with elif score >= 70 will be executed, and the evaluation will stop._"
   ]
  },
  {
   "cell_type": "code",
   "execution_count": 3,
   "id": "8a54fd14-5add-4404-af43-45e527c4d99c",
   "metadata": {},
   "outputs": [
    {
     "name": "stdout",
     "output_type": "stream",
     "text": [
      "x is not greater than 10\n"
     ]
    }
   ],
   "source": [
    "# Assigning a variable value\n",
    "x = 5\n",
    "\n",
    "# Checking if x is greater than 10\n",
    "if x > 10:\n",
    "    print(\"x is greater than 10\")\n",
    "else:\n",
    "    print(\"x is not greater than 10\")\n"
   ]
  },
  {
   "cell_type": "markdown",
   "id": "cd7f95d0-ee05-44ec-bea3-077088835a81",
   "metadata": {},
   "source": [
    "_In this example, since the condition x > 10 is False (because x is 5), the code block associated with the else statement will be executed, printing \"x is not greater than 10\"._"
   ]
  },
  {
   "cell_type": "code",
   "execution_count": null,
   "id": "32e76d0e-52b4-489e-994c-77bb64348fd1",
   "metadata": {},
   "outputs": [],
   "source": []
  }
 ],
 "metadata": {
  "kernelspec": {
   "display_name": "Python 3 (ipykernel)",
   "language": "python",
   "name": "python3"
  },
  "language_info": {
   "codemirror_mode": {
    "name": "ipython",
    "version": 3
   },
   "file_extension": ".py",
   "mimetype": "text/x-python",
   "name": "python",
   "nbconvert_exporter": "python",
   "pygments_lexer": "ipython3",
   "version": "3.11.7"
  }
 },
 "nbformat": 4,
 "nbformat_minor": 5
}
