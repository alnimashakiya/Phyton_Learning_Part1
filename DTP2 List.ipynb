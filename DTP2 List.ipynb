{
 "cells": [
  {
   "cell_type": "markdown",
   "id": "df8a703e-a5bb-490b-9e36-2adc99c02b44",
   "metadata": {},
   "source": [
    "## List\n",
    "In Python, a list is a built-in data structure that represents a collection of elements in an ordered sequence. Lists are versatile and widely used due to their flexibility and ease of manipulation. They are defined by enclosing elements within square brackets [] and separating them by commas.\r\n",
    "\r\n",
    "Here are some key points about lists in Python:\r\n",
    "\r\n",
    "- Ordered Collection: Lists maintain the order in which elements are added. This means the position of each element is determined by its index, starting from 0 for the first element.\r\n",
    "- Mutable: Unlike tuples, lists are mutable, meaning you can modify, add, or remove elements after the list has been created.\r\n",
    "- Mixed Data Types: Lists can contain elements of different data types, including integers, floats, strings, and even other lists.\r\n",
    "- Dynamic Sizing: Lists can dynamically grow or shrink in size as elements are added or removed. There's no fixed size limit for lists.\r\n",
    "- Indexing and Slicing: Elements within a list can be accessed using indexing and slicing operations. Indexing allows you to access individual elements, while slicing allows you to extract sublists from a list.\r\n",
    "- Common Operations: Lists support a variety of common operations such as appending, inserting, extending, removing, and sorting elements."
   ]
  },
  {
   "cell_type": "markdown",
   "id": "09d160be-d895-4346-9d8f-bf381d9d1576",
   "metadata": {},
   "source": [
    "### Example"
   ]
  },
  {
   "cell_type": "code",
   "execution_count": 1,
   "id": "c8222594-9814-4bce-8beb-5179d1592987",
   "metadata": {},
   "outputs": [],
   "source": [
    "a = \"\\nData Analyst. \\nClass B. \\nGroup 4.\""
   ]
  },
  {
   "cell_type": "code",
   "execution_count": 2,
   "id": "d6499192-a0d1-49aa-a9e8-03bcbf6e1024",
   "metadata": {},
   "outputs": [
    {
     "name": "stdout",
     "output_type": "stream",
     "text": [
      "\n",
      "Data Analyst. \n",
      "Class B. \n",
      "Group 4.\n"
     ]
    }
   ],
   "source": [
    "print (a)"
   ]
  },
  {
   "cell_type": "code",
   "execution_count": 3,
   "id": "141d5d1e-6fa8-467e-930a-edbe3e86391c",
   "metadata": {},
   "outputs": [],
   "source": [
    "b = '''Data Analyst. \n",
    "Class B. \n",
    "Group 4.'''"
   ]
  },
  {
   "cell_type": "code",
   "execution_count": 4,
   "id": "e3b26073-9e91-49a0-88ba-740a2b9b8757",
   "metadata": {},
   "outputs": [
    {
     "name": "stdout",
     "output_type": "stream",
     "text": [
      "Data Analyst. \n",
      "Class B. \n",
      "Group 4.\n"
     ]
    }
   ],
   "source": [
    "print (b)"
   ]
  },
  {
   "cell_type": "markdown",
   "id": "f575ed65-7df9-4c13-97e9-a16eb0f20cf4",
   "metadata": {},
   "source": [
    "### Another Example"
   ]
  },
  {
   "cell_type": "code",
   "execution_count": 5,
   "id": "46dbf3c4-f07e-4f46-9449-806bce5ecadc",
   "metadata": {},
   "outputs": [
    {
     "name": "stdout",
     "output_type": "stream",
     "text": [
      "apple\n",
      "orange\n",
      "['apple', 'pear', 'orange', 'grape', 'pineapple']\n",
      "['apple', 'pear', 'orange', 'grape', 'pineapple', 'kiwi']\n",
      "grape\n",
      "['apple', 'pear', 'orange', 'pineapple', 'kiwi']\n"
     ]
    }
   ],
   "source": [
    "# Creating a list of fruits\n",
    "fruits = ['apple', 'banana', 'orange', 'grape', 'pineapple']\n",
    "\n",
    "# Accessing elements\n",
    "print(fruits[0])\n",
    "print(fruits[2])\n",
    "\n",
    "# Modifying elements\n",
    "fruits[1] = 'pear'\n",
    "print(fruits)\n",
    "\n",
    "# Adding elements\n",
    "fruits.append('kiwi')\n",
    "print(fruits)\n",
    "\n",
    "# Removing elements\n",
    "removed_fruit = fruits.pop(3)\n",
    "print(removed_fruit)\n",
    "print(fruits)\n"
   ]
  },
  {
   "cell_type": "markdown",
   "id": "b34d2025-740c-43e4-9286-a1d546040e22",
   "metadata": {},
   "source": [
    "In this example:\r\n",
    "\r\n",
    "- We start by creating a list called fruits containing several fruit names.\r\n",
    "- We access individual elements of the list using indexing.\r\n",
    "- We modify an element in the list by assigning a new value to it.\r\n",
    "- We add a new fruit to the list using the append() method.\r\n",
    "- We remove an element from the list using the pop() method, which removes and returns the last element by default. We specify the index of the element to remove in this case."
   ]
  },
  {
   "cell_type": "code",
   "execution_count": null,
   "id": "25abbc65-b6d9-4743-8bf4-f2ff2e625086",
   "metadata": {},
   "outputs": [],
   "source": []
  }
 ],
 "metadata": {
  "kernelspec": {
   "display_name": "Python 3 (ipykernel)",
   "language": "python",
   "name": "python3"
  },
  "language_info": {
   "codemirror_mode": {
    "name": "ipython",
    "version": 3
   },
   "file_extension": ".py",
   "mimetype": "text/x-python",
   "name": "python",
   "nbconvert_exporter": "python",
   "pygments_lexer": "ipython3",
   "version": "3.11.7"
  }
 },
 "nbformat": 4,
 "nbformat_minor": 5
}
