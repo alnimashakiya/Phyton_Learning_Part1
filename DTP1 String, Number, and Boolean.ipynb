{
 "cells": [
  {
   "cell_type": "markdown",
   "id": "8b660725-dae3-4744-87c5-806bdb49f183",
   "metadata": {},
   "source": [
    "# DATA TYPES IN PHYTON (DTP)\n",
    "In Python, data types are a way to classify and represent the type of values or information that can be stored and processed by a program. Each value in Python has a specific data type that determines the nature and operations that can be performed on that value.\n",
    "\n",
    "## 1. String\n",
    "A string is a data type used to represent a sequence of characters in Python. These characters can be letters, numbers, symbols, or other special characters. Strings are typically written within single quotes ('...') or double quotes (\"...\").\n"
   ]
  },
  {
   "cell_type": "markdown",
   "id": "e3dd3db8-08fa-4bff-8e91-27843118e0f9",
   "metadata": {},
   "source": [
    "### Example"
   ]
  },
  {
   "cell_type": "code",
   "execution_count": 1,
   "id": "9f4b826f-277a-4def-884f-f8b9abad19ab",
   "metadata": {},
   "outputs": [],
   "source": [
    "my_string = \"Hello, World!\""
   ]
  },
  {
   "cell_type": "code",
   "execution_count": 2,
   "id": "3fa3e72b-a788-453a-b3df-686db03b04ad",
   "metadata": {},
   "outputs": [
    {
     "name": "stdout",
     "output_type": "stream",
     "text": [
      "Hello, World!\n"
     ]
    }
   ],
   "source": [
    "print(my_string)"
   ]
  },
  {
   "cell_type": "markdown",
   "id": "565bc3a4-d453-4a1e-9c67-fe66e2885b43",
   "metadata": {},
   "source": [
    "_The statement `my_string = \"Hello, World!\"` in Python assigns the string `\"Hello, World!\"` to the variable `my_string`. Here's a breakdown:_\r\n",
    "\r\n",
    "- `my_string`: This is the name of the variable being assigned.\r\n",
    "- `=`: This is the assignment operator, which assigns the value on the right-hand side to the variable on the left-hand side.\r\n",
    "- `\"Hello, World!\"`: This is the string value being assigned to the variable `my_string`. It represents the sequence of characters \"Hello, World!_\".\r\n",
    "\r\n",
    "After this statement is executed, the variable `my_string` will hold the value `\"Hello, World!\"`, allowing you to reference and manipulate this string throughout your pr_ogram."
   ]
  },
  {
   "cell_type": "markdown",
   "id": "8c24b7f2-7dbf-4956-b86e-5aababc1fec9",
   "metadata": {},
   "source": [
    "## 2. Number\n",
    "In Python, \"number\" refers to the data type used to represent numerical values. There are several types of numbers in Python, including:"
   ]
  },
  {
   "cell_type": "markdown",
   "id": "f2177c83-826d-4db3-acef-564e46f1425d",
   "metadata": {},
   "source": [
    "#### 1) Integer\n",
    "Integer (int) is a data type in Python used to represent whole numbers, which are numbers without fractions or decimals. Examples include -3, 0, 42, and so on.\n",
    "\n",
    "### Example\n"
   ]
  },
  {
   "cell_type": "code",
   "execution_count": 3,
   "id": "c5b62a86-3d0f-435e-9103-7f3d9848ea46",
   "metadata": {},
   "outputs": [],
   "source": [
    "x = 40"
   ]
  },
  {
   "cell_type": "code",
   "execution_count": 4,
   "id": "d4b12582-b9bc-4f82-9459-aad97db423aa",
   "metadata": {},
   "outputs": [
    {
     "data": {
      "text/plain": [
       "int"
      ]
     },
     "execution_count": 4,
     "metadata": {},
     "output_type": "execute_result"
    }
   ],
   "source": [
    "type (x)"
   ]
  },
  {
   "cell_type": "markdown",
   "id": "b63f83a9-4526-4446-adfc-819196222df4",
   "metadata": {},
   "source": [
    "#### 2) Float\n",
    "In Python, a float is a data type used to represent decimal or floating-point numbers. Floats can represent both fractional numbers and very large or very small numbers with a decimal point. Examples of float values include 3.14, -0.001, 2.5, etc.\n",
    "\n",
    "### Example"
   ]
  },
  {
   "cell_type": "code",
   "execution_count": 5,
   "id": "3f1a239b-7696-4cdd-ac2b-b7b65bc76a61",
   "metadata": {},
   "outputs": [],
   "source": [
    "y = 1.2"
   ]
  },
  {
   "cell_type": "code",
   "execution_count": 6,
   "id": "216290fb-ce88-4bfd-b5fd-50ccd880c0ba",
   "metadata": {},
   "outputs": [
    {
     "data": {
      "text/plain": [
       "float"
      ]
     },
     "execution_count": 6,
     "metadata": {},
     "output_type": "execute_result"
    }
   ],
   "source": [
    "type (y)"
   ]
  },
  {
   "cell_type": "markdown",
   "id": "2f3a718f-d336-435e-bd93-1fd54afe25b6",
   "metadata": {},
   "source": [
    "#### 3) Complex\n",
    "In Python, a complex number (complex) is a data type used to represent numbers with both real and imaginary parts. Complex numbers are written in the form a + bj, where a is the real part, b is the imaginary part, and j is the imaginary unit (the square root of -1).\n",
    "\n",
    "### Example"
   ]
  },
  {
   "cell_type": "code",
   "execution_count": 7,
   "id": "309df87a-2797-47d9-916f-5e6f33019215",
   "metadata": {},
   "outputs": [],
   "source": [
    "z = 2 + 3j"
   ]
  },
  {
   "cell_type": "code",
   "execution_count": 8,
   "id": "f876c841-4d83-4d35-8eda-dd1228c2ce89",
   "metadata": {},
   "outputs": [
    {
     "data": {
      "text/plain": [
       "complex"
      ]
     },
     "execution_count": 8,
     "metadata": {},
     "output_type": "execute_result"
    }
   ],
   "source": [
    "type (z)"
   ]
  },
  {
   "cell_type": "markdown",
   "id": "7b0ef085-19c8-4e48-9350-00f72ed2b72c",
   "metadata": {},
   "source": [
    "#### 3) Boolean\n",
    "In Python, a boolean (bool) is a built-in data type used to represent logical values. A boolean can only have one of two possible values: True or False. Booleans are commonly used in conditional statements, loops, and logical operations to control the flow of the program based on conditions.\n",
    "\n",
    "### Example"
   ]
  },
  {
   "cell_type": "code",
   "execution_count": 9,
   "id": "4ce10b04-5e15-4626-9d05-309a2261fae0",
   "metadata": {},
   "outputs": [
    {
     "data": {
      "text/plain": [
       "False"
      ]
     },
     "execution_count": 9,
     "metadata": {},
     "output_type": "execute_result"
    }
   ],
   "source": [
    "5 < 7 < 4"
   ]
  },
  {
   "cell_type": "code",
   "execution_count": 10,
   "id": "604e79ce-21bd-4665-910b-8138ffd828c8",
   "metadata": {},
   "outputs": [
    {
     "data": {
      "text/plain": [
       "True"
      ]
     },
     "execution_count": 10,
     "metadata": {},
     "output_type": "execute_result"
    }
   ],
   "source": [
    "5 < 7 > 4"
   ]
  },
  {
   "cell_type": "code",
   "execution_count": 11,
   "id": "001bd982-9c21-4ac4-8f3b-9dafc8aa514b",
   "metadata": {},
   "outputs": [
    {
     "data": {
      "text/plain": [
       "False"
      ]
     },
     "execution_count": 11,
     "metadata": {},
     "output_type": "execute_result"
    }
   ],
   "source": [
    "7 <= 3 != 4"
   ]
  },
  {
   "cell_type": "code",
   "execution_count": null,
   "id": "c714bed4-e95c-4cd9-9695-284f2d80c0b8",
   "metadata": {},
   "outputs": [],
   "source": []
  }
 ],
 "metadata": {
  "kernelspec": {
   "display_name": "Python 3 (ipykernel)",
   "language": "python",
   "name": "python3"
  },
  "language_info": {
   "codemirror_mode": {
    "name": "ipython",
    "version": 3
   },
   "file_extension": ".py",
   "mimetype": "text/x-python",
   "name": "python",
   "nbconvert_exporter": "python",
   "pygments_lexer": "ipython3",
   "version": "3.11.7"
  }
 },
 "nbformat": 4,
 "nbformat_minor": 5
}
